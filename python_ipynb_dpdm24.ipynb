{
  "nbformat": 4,
  "nbformat_minor": 0,
  "metadata": {
    "colab": {
      "provenance": [],
      "toc_visible": true,
      "authorship_tag": "ABX9TyMY9yj0Hpuu4F0GuVRqpA7Y",
      "include_colab_link": true
    },
    "kernelspec": {
      "name": "python3",
      "display_name": "Python 3"
    },
    "language_info": {
      "name": "python"
    }
  },
  "cells": [
    {
      "cell_type": "markdown",
      "metadata": {
        "id": "view-in-github",
        "colab_type": "text"
      },
      "source": [
        "<a href=\"https://colab.research.google.com/github/BEST-PK/DPDM2024/blob/main/python_ipynb_dpdm24.ipynb\" target=\"_parent\"><img src=\"https://colab.research.google.com/assets/colab-badge.svg\" alt=\"Open In Colab\"/></a>"
      ]
    },
    {
      "cell_type": "markdown",
      "source": [
        "#**Class : 19 June 2024**\n"
      ],
      "metadata": {
        "id": "-Ju2DBJrkEx1"
      }
    },
    {
      "cell_type": "markdown",
      "source": [
        " ## **Python101 : พื้นฐาน**\n",
        "\n",
        "\n",
        "*   for loop used indentation คือการเว้นเข้าไป เพื่อบอกว่าโค้ด for loop ที่ย่อเข้าไป เป็นส่วนหนึ่งของ line หลัก\n",
        "*   ภาษา python ให้ความสำคัญกับวงเล็บ [ระบุ set ของข้อมูล], <ระบุ set ของข้อมูล> , (ส่วนหนึ่งของ func)\n",
        "\n",
        "\n",
        "\n"
      ],
      "metadata": {
        "id": "0pszJ1UFkEzt"
      }
    },
    {
      "cell_type": "code",
      "source": [
        "for i in ['a','b','c']:\n",
        "    print(i,end=' ')\n",
        "    print('/')\n",
        "    for j in range(10):\n",
        "        ccc=10\n",
        "        #print(ccc)"
      ],
      "metadata": {
        "colab": {
          "base_uri": "https://localhost:8080/"
        },
        "id": "rbJZQVhNke-9",
        "outputId": "0aa325cb-3876-4834-f63c-2896123a4020"
      },
      "execution_count": null,
      "outputs": [
        {
          "output_type": "stream",
          "name": "stdout",
          "text": [
            "a /\n",
            "b /\n",
            "c /\n"
          ]
        }
      ]
    },
    {
      "cell_type": "markdown",
      "source": [
        "## **Defind Variable : การกำหนดตัวแปร**\n",
        "สำหรับการเก็บข้อมูลไว้ในตัวแปรนั้นๆ\n",
        "**variable_a = ข้อมูลที่เราต้องการ**\n",
        "\n",
        "ซึ่งเราไม่ต้องกำหนดชนิดตัวแปรเองมันจะกำหนดให้เราเลย แต่เราก็ต้องเข้าใจชนิดของมันเองว่ามันคืออะไร เพื่อให้นำไปใช้งานได้ถูกต้อง\n",
        "\n",
        "## **การตั้งชื่อตัวแปร**\n",
        "*   ตั้งให้สื่อความหมาย\n",
        "*   ต้องเป็นภาษาอังกฤษ\n",
        "*   ใช้ตัวเลขผสมตัวหนังสือได้ แต่ห้ามขึ้นต้นด้วยตัวเลข\n",
        "*   ห้ามมีเว้นวรรคในตัวแปร\n",
        "*   ตัวใหญ่ ตัวเล็กมีค่าไม่เท่ากัน\n"
      ],
      "metadata": {
        "id": "k9nIAum8Bcgc"
      }
    },
    {
      "cell_type": "code",
      "source": [
        "a = 5 #int\n",
        "print(a)\n",
        "\n",
        "b = 5.7 #float\n",
        "print(b)\n",
        "\n",
        "c = a-b\n",
        "print(c)"
      ],
      "metadata": {
        "colab": {
          "base_uri": "https://localhost:8080/"
        },
        "id": "PDeYPoBxsfYs",
        "outputId": "9fcd9ffc-b1fd-40fd-9d86-e3d959a38c90",
        "collapsed": true
      },
      "execution_count": null,
      "outputs": [
        {
          "output_type": "stream",
          "name": "stdout",
          "text": [
            "5\n",
            "5.7\n",
            "-0.7000000000000002\n"
          ]
        }
      ]
    },
    {
      "cell_type": "markdown",
      "source": [
        "## **Intro to string and print statement**\n",
        "การจัดการข้อมูลประเภท String และคำสั่งพิมพ์"
      ],
      "metadata": {
        "id": "z1eVRg4fzd6o"
      }
    },
    {
      "cell_type": "markdown",
      "source": [
        "### **String(text)**\n",
        "*  String เป็นลำดับของตัวอักษรหลายตัวเรียงต่อกัน (text )\n",
        "*  การที่จะประกาศ String ค่าของมันจะอยู่ในเครื่องหมาย Single quote  (' ') หรือ Double quote ( \" \")  เท่านั้น\n"
      ],
      "metadata": {
        "id": "jaebvaWUk4Dl"
      }
    },
    {
      "cell_type": "code",
      "source": [
        "#กำหนดตัวแปรสำหรับเก็บข้อมูล text\n",
        "#ชื่อตัวแปร=\"ข้อความ\"\n",
        "veriable1 =\"Stat\"\n",
        "veriable2 ='KKU'\n",
        "veriable3 ='12345'\n",
        "print(veriable1)\n",
        "print(veriable2)\n",
        "print(veriable3)"
      ],
      "metadata": {
        "colab": {
          "base_uri": "https://localhost:8080/"
        },
        "id": "WZ3HvJBxjxRe",
        "outputId": "68b10b94-87c7-4688-b351-0f422b8d40e2"
      },
      "execution_count": null,
      "outputs": [
        {
          "output_type": "stream",
          "name": "stdout",
          "text": [
            "Stat\n",
            "KKU\n",
            "12345\n"
          ]
        }
      ]
    },
    {
      "cell_type": "code",
      "execution_count": null,
      "metadata": {
        "colab": {
          "base_uri": "https://localhost:8080/"
        },
        "id": "SA1J748xjO1h",
        "outputId": "99002bf1-b0fe-49ac-e0d1-cfde3eea94c1"
      },
      "outputs": [
        {
          "output_type": "stream",
          "name": "stdout",
          "text": [
            "StatKKU\n",
            "Stat1\n"
          ]
        }
      ],
      "source": [
        "#สามารถแสดงข้อมูลจาก 2 ตัวแปรมารวมกันได้ str+str\n",
        "print(veriable1+veriable2)\n",
        "\n",
        "#แต่ไม่สามารถต่อกับตัวแปรชนิดต่างกันได้ str+int or int+str\n",
        "int1=1\n",
        "#print(veriable1+ int1 ) #TypeError: can only concatenate str (not \"int\") to str\n",
        "#print( int1 +veriable1) #TypeError: can only concatenate str (not \"int\") to str\n",
        "#หากต้องการใช้  str+int or int+str\n",
        "print(veriable1+ str(int1))\n",
        "\n"
      ]
    },
    {
      "cell_type": "markdown",
      "source": [
        "### **การจัดการ text แบบพิเศษ (โดยใช้ตัวแปร หรือ run code ใน text)**\n",
        "\n",
        "โดยการใช้        **f'ข้อความ1 {ส่วนของ code1} ข้อความ2 {ส่วนของ code2}'**"
      ],
      "metadata": {
        "id": "viL2dGKj1OvY"
      }
    },
    {
      "cell_type": "code",
      "source": [
        "print(f'six plus five = {6+5}') # F-String คือเอา f' ไปใส่ข้างหน้า แล้วจะสามารนำตัวแปรที่มีค่าอยู่แล้วมาแทรกได้"
      ],
      "metadata": {
        "colab": {
          "base_uri": "https://localhost:8080/"
        },
        "id": "qJvUOa8mu3qc",
        "outputId": "f3036fa8-ec3a-4b0c-a0c1-ef62f974d946"
      },
      "execution_count": null,
      "outputs": [
        {
          "output_type": "stream",
          "name": "stdout",
          "text": [
            "six plus five = 11\n"
          ]
        }
      ]
    },
    {
      "cell_type": "code",
      "source": [
        "print(f'six plus five = {6+5.7:.2f}%') # ใส่ :.2f} คือให้แสดงค่าของตัวเลข เป็นทศนิยม 2 ตำแหน่ง// ใส่ % หลัง } คือเครื่องหมาน สามารถเป็นเป็น $ & หรืออื่นๆได้"
      ],
      "metadata": {
        "colab": {
          "base_uri": "https://localhost:8080/"
        },
        "id": "UnPNQ6Jdu9c0",
        "outputId": "d9265619-1f6b-4af8-fbf6-0042ea78d9ec"
      },
      "execution_count": null,
      "outputs": [
        {
          "output_type": "stream",
          "name": "stdout",
          "text": [
            "six plus five = 11.70%\n"
          ]
        }
      ]
    },
    {
      "cell_type": "code",
      "source": [
        "print(f'six plus five = {6+5:03d}') #แสดงผลลัพธ์ 3 หลัก"
      ],
      "metadata": {
        "colab": {
          "base_uri": "https://localhost:8080/"
        },
        "id": "RizsXWF9u89U",
        "outputId": "5b98ab91-11ac-488e-f5ec-ae0a3c080fb8"
      },
      "execution_count": null,
      "outputs": [
        {
          "output_type": "stream",
          "name": "stdout",
          "text": [
            "six plus five = 011\n"
          ]
        }
      ]
    },
    {
      "cell_type": "code",
      "source": [
        "st1 = f'six plus five = {6+5:03d}' # สร้างตัวแปร st1 มาเก็บค่าของ f'six plus five = {6+5:03d}\n",
        "st1 # แสดงค่าของst1"
      ],
      "metadata": {
        "colab": {
          "base_uri": "https://localhost:8080/",
          "height": 34
        },
        "id": "YLrW8drRu75z",
        "outputId": "23ea0c19-1fb5-4dba-f511-53bbf9d938f8"
      },
      "execution_count": null,
      "outputs": [
        {
          "output_type": "execute_result",
          "data": {
            "text/plain": [
              "'six plus five = 011'"
            ],
            "application/vnd.google.colaboratory.intrinsic+json": {
              "type": "string"
            }
          },
          "metadata": {},
          "execution_count": 30
        }
      ]
    },
    {
      "cell_type": "markdown",
      "source": [
        "####  **การใช้งาน quote และ double quote**"
      ],
      "metadata": {
        "id": "B1_uPCNihKI2"
      }
    },
    {
      "cell_type": "code",
      "source": [
        "# การใช้งาน quote และ double quote\n",
        "# f'six plus five = {'six'+'five'}' #SyntaxError: f-string: expecting '}'\n",
        "\n",
        "f\"six plus five = {'six'+'five'}\""
      ],
      "metadata": {
        "colab": {
          "base_uri": "https://localhost:8080/",
          "height": 34
        },
        "id": "g6Taz1kkv3Y0",
        "outputId": "ffa77a6c-991f-4f49-dcc2-63984095c232"
      },
      "execution_count": null,
      "outputs": [
        {
          "output_type": "execute_result",
          "data": {
            "text/plain": [
              "'six plus five = sixfive'"
            ],
            "application/vnd.google.colaboratory.intrinsic+json": {
              "type": "string"
            }
          },
          "metadata": {},
          "execution_count": 7
        }
      ]
    },
    {
      "cell_type": "markdown",
      "source": [
        "### **Advanced printing : การแสดงผลแบบ Advanced**\n",
        "Syntax สำหรับ Print :\n",
        "**print(object(s), sep=separator, end=end, file=file, flush=flush)**\n"
      ],
      "metadata": {
        "id": "hIrYyr79uAQp"
      }
    },
    {
      "cell_type": "markdown",
      "source": [
        "#### **object(s)**\n",
        "(s) สามารถ input object ได้มากกว่า 1 ตัว"
      ],
      "metadata": {
        "id": "qqBPU5Fwv7-M"
      }
    },
    {
      "cell_type": "code",
      "source": [
        "print(veriable1,veriable2,veriable3)"
      ],
      "metadata": {
        "colab": {
          "base_uri": "https://localhost:8080/"
        },
        "id": "4V63JPvP4O0f",
        "outputId": "ab681e79-2abb-4f63-80f7-c031988a3328"
      },
      "execution_count": null,
      "outputs": [
        {
          "output_type": "stream",
          "name": "stdout",
          "text": [
            "Stat KKU 12345\n"
          ]
        }
      ]
    },
    {
      "cell_type": "markdown",
      "source": [
        "#### **separator(sep): การแบ่งข้อมูลด้วยคำสั่ง ช่องว่าง , และ /**\n",
        "Default is '(ช่องว่าง) '"
      ],
      "metadata": {
        "id": "4nfrz91U3bjh"
      }
    },
    {
      "cell_type": "code",
      "source": [
        "#ถ้าไม่กำหนด sep จะใช้ ' ' แบ่ง\n",
        "print(veriable1,veriable2,veriable3)"
      ],
      "metadata": {
        "colab": {
          "base_uri": "https://localhost:8080/"
        },
        "id": "S6Joif8_3Yuo",
        "outputId": "2cdfd103-cdb9-4395-8b96-09950993b31e"
      },
      "execution_count": null,
      "outputs": [
        {
          "output_type": "stream",
          "name": "stdout",
          "text": [
            "Stat KKU 12345\n"
          ]
        }
      ]
    },
    {
      "cell_type": "code",
      "source": [
        "#ถ้ากำหนด sep เป็น อักขระอื่นๆ\n",
        "print(veriable1,veriable2,veriable3,sep='+')\n",
        "print(veriable1,veriable2,veriable3,sep='/')\n",
        "print(veriable1,veriable2,veriable3,sep=',')"
      ],
      "metadata": {
        "colab": {
          "base_uri": "https://localhost:8080/"
        },
        "id": "oos0zRMYyUV0",
        "outputId": "c97a5b82-826d-43d3-d4a4-ee8470f2c9eb"
      },
      "execution_count": null,
      "outputs": [
        {
          "output_type": "stream",
          "name": "stdout",
          "text": [
            "Stat+KKU+12345\n",
            "Stat/KKU/12345\n",
            "Stat,KKU,12345\n"
          ]
        }
      ]
    },
    {
      "cell_type": "markdown",
      "source": [
        "#### **end : สำหรับการขึ้นบรรทัดใหม่หรือการเพิ่มตัวอักษร**\n",
        "Default is '\\n'"
      ],
      "metadata": {
        "id": "t2elcVfx31hA"
      }
    },
    {
      "cell_type": "code",
      "source": [
        "print('stat') #Default is '\\n' ## ขึ้นบรรทัดใหม่\n",
        "print('kku')"
      ],
      "metadata": {
        "colab": {
          "base_uri": "https://localhost:8080/"
        },
        "id": "CtXpFoiD6ZPJ",
        "outputId": "9f7c83cf-9e2a-4781-b666-06c0f2aa1212"
      },
      "execution_count": null,
      "outputs": [
        {
          "output_type": "stream",
          "name": "stdout",
          "text": [
            "stat\n",
            "kku\n"
          ]
        }
      ]
    },
    {
      "cell_type": "code",
      "source": [
        "print('stat', end='+-+')\n",
        "print('kku')"
      ],
      "metadata": {
        "colab": {
          "base_uri": "https://localhost:8080/"
        },
        "id": "BUVzyjp732bW",
        "outputId": "b4b6593e-d62f-48de-b49f-5494937a391e"
      },
      "execution_count": null,
      "outputs": [
        {
          "output_type": "stream",
          "name": "stdout",
          "text": [
            "stat+-+kku\n"
          ]
        }
      ]
    },
    {
      "cell_type": "markdown",
      "source": [
        "#**Class : 10 July 2024**"
      ],
      "metadata": {
        "id": "djJL-yY4cheL"
      }
    },
    {
      "cell_type": "markdown",
      "source": [
        "##char (acter) (ตัวอักษร)"
      ],
      "metadata": {
        "id": "Q0IMlP98dRjZ"
      }
    },
    {
      "cell_type": "code",
      "source": [
        "a = 'C'"
      ],
      "metadata": {
        "id": "mwFoIMPwdRCP"
      },
      "execution_count": null,
      "outputs": []
    },
    {
      "cell_type": "code",
      "source": [
        "b= 'haracter'"
      ],
      "metadata": {
        "id": "P9RPmWHsdYRu"
      },
      "execution_count": null,
      "outputs": []
    },
    {
      "cell_type": "code",
      "source": [
        "print(f'a={a} b={b},then {a}+{b} = {a+b}') #string + string"
      ],
      "metadata": {
        "colab": {
          "base_uri": "https://localhost:8080/"
        },
        "id": "mWyc73l1dYNy",
        "outputId": "4c0c4b5d-fafb-44b0-f907-6ddfae8f003d"
      },
      "execution_count": null,
      "outputs": [
        {
          "output_type": "stream",
          "name": "stdout",
          "text": [
            "a=C b=haracter,then C+haracter = Character\n"
          ]
        }
      ]
    },
    {
      "cell_type": "code",
      "source": [
        "A = 'c'\n",
        "B = 'a'"
      ],
      "metadata": {
        "id": "sQuwwdx0dYK_"
      },
      "execution_count": null,
      "outputs": []
    },
    {
      "cell_type": "code",
      "source": [
        "print(A+B) # string + string คือมาต่อกันได้"
      ],
      "metadata": {
        "colab": {
          "base_uri": "https://localhost:8080/"
        },
        "id": "YHkQw9ZGdYHm",
        "outputId": "98fdfa77-1e39-42df-a2b4-9365cb70161d"
      },
      "execution_count": null,
      "outputs": [
        {
          "output_type": "stream",
          "name": "stdout",
          "text": [
            "ca\n"
          ]
        }
      ]
    },
    {
      "cell_type": "code",
      "source": [
        "A = '1'  #str\n",
        "B = 2   #int\n",
        "print(A,B)"
      ],
      "metadata": {
        "colab": {
          "base_uri": "https://localhost:8080/"
        },
        "id": "Fk9uHKtueuEW",
        "outputId": "652f74be-fe2f-406c-e271-7d177496da32"
      },
      "execution_count": null,
      "outputs": [
        {
          "output_type": "stream",
          "name": "stdout",
          "text": [
            "1 2\n"
          ]
        }
      ]
    },
    {
      "cell_type": "markdown",
      "source": [
        "integer * char mean multiple copies of the char หรือสามารถคูณตัวอักษรเพื่อแสดงผลเท่าคูณได้"
      ],
      "metadata": {
        "id": "LN6e8GaOd1Je"
      }
    },
    {
      "cell_type": "code",
      "source": [
        "print(5*'T')"
      ],
      "metadata": {
        "colab": {
          "base_uri": "https://localhost:8080/"
        },
        "id": "0_GgAiAYdYEf",
        "outputId": "1155939e-be7f-48dd-f6ab-3179aa48a59b"
      },
      "execution_count": null,
      "outputs": [
        {
          "output_type": "stream",
          "name": "stdout",
          "text": [
            "TTTTT\n"
          ]
        }
      ]
    },
    {
      "cell_type": "markdown",
      "source": [
        "##List() : โครงสร้างข้อมูล\n",
        "\n",
        "\n",
        "*   List สามารถเก็บข้อมูลหลายประเภทได้ ไม่ว่าจะเป็นตัวเลข สตริง หรือออบเจกต์อื่น\n",
        "*   List สามารถสร้างได้โดยใช้เครื่องหมายวงเล็บเหลี่ยม [] หรือใช้ฟังก์ชัน list()\n",
        "\n",
        "\n",
        "\n",
        "\n",
        "\n",
        "\n",
        "\n",
        "\n"
      ],
      "metadata": {
        "id": "Nm1ghz4Eg74d"
      }
    },
    {
      "cell_type": "code",
      "source": [
        "list_a = [1, 2, 3] #สร้างจากการใส่ค่าเข้าไปเลย"
      ],
      "metadata": {
        "id": "ngDpsQW1hJIh"
      },
      "execution_count": null,
      "outputs": []
    },
    {
      "cell_type": "code",
      "source": [
        "list_b =[] #สร้างจากเซตว่าง และเพิ่มค่าเข้าไปที่หลัง\n",
        "list_b.append(1) # เพิ่มค่า 1\n",
        "list_b.append(2) # เพิ่มค่า 2\n",
        "list_b\n",
        "#ค่าที่เพิ่มจะต้องเรียงลำดับเสมอ!!\n",
        "list_b.append('f')\n",
        "list_b.append([12,'m','n'])\n",
        "list_b"
      ],
      "metadata": {
        "colab": {
          "base_uri": "https://localhost:8080/"
        },
        "id": "y7CZMDQaiAiM",
        "outputId": "e26f078b-1f7d-40a3-b17f-c13c22d6965f"
      },
      "execution_count": null,
      "outputs": [
        {
          "output_type": "execute_result",
          "data": {
            "text/plain": [
              "[1, 2, 'f', [12, 'm', 'n']]"
            ]
          },
          "metadata": {},
          "execution_count": 19
        }
      ]
    },
    {
      "cell_type": "code",
      "source": [
        "list_b[3] #index"
      ],
      "metadata": {
        "colab": {
          "base_uri": "https://localhost:8080/"
        },
        "id": "HxoGslTniyJU",
        "outputId": "15e0a970-ce52-4ee0-c678-9beb588b9525"
      },
      "execution_count": null,
      "outputs": [
        {
          "output_type": "execute_result",
          "data": {
            "text/plain": [
              "[12, 'm', 'n']"
            ]
          },
          "metadata": {},
          "execution_count": 20
        }
      ]
    },
    {
      "cell_type": "markdown",
      "source": [
        "##For Loops : วนซ้ำ\n",
        "\n",
        "แนวคิด --> for สมาชิกแต่ละตัว in list :             ทำอะไรสักอย่าง"
      ],
      "metadata": {
        "id": "CbEyluf4gp0u"
      }
    },
    {
      "cell_type": "code",
      "source": [
        "fruits = [\"apple\", \"banana\", \"cherry\"]\n",
        "for x in fruits:\n",
        "  print(x)"
      ],
      "metadata": {
        "colab": {
          "base_uri": "https://localhost:8080/"
        },
        "id": "X9KoTgulkPHb",
        "outputId": "fd51f6cc-814e-4fc2-e05c-b86f8a5ed424"
      },
      "execution_count": null,
      "outputs": [
        {
          "output_type": "stream",
          "name": "stdout",
          "text": [
            "apple\n",
            "banana\n",
            "cherry\n"
          ]
        }
      ]
    },
    {
      "cell_type": "code",
      "source": [
        "for i in [1,2,3,4,5]:\n",
        "  print(2*i, end=' ')"
      ],
      "metadata": {
        "colab": {
          "base_uri": "https://localhost:8080/"
        },
        "id": "7pTrQ9HDkj1T",
        "outputId": "cee6797e-92c9-4f4b-ed81-eaba1eab4b36"
      },
      "execution_count": null,
      "outputs": [
        {
          "output_type": "stream",
          "name": "stdout",
          "text": [
            "2 4 6 8 10 "
          ]
        }
      ]
    },
    {
      "cell_type": "markdown",
      "source": [
        "#Quiz2\n",
        "\n",
        "ให้ print Ka 5 ครั้ง ต่อด้วย Ga 5 ครั้ง\n",
        "แบบใช้ loop และขั้น Ka แต่ละตัวด้วย +\n",
        "ขั้น Ga แต่ละตัวด้วย x (ในบรรทัดเดียวกัน)"
      ],
      "metadata": {
        "id": "hsy6Do7KlEjz"
      }
    },
    {
      "cell_type": "code",
      "source": [],
      "metadata": {
        "id": "sdG1HW6Ykjnz"
      },
      "execution_count": null,
      "outputs": []
    },
    {
      "cell_type": "code",
      "source": [
        "for i in range(5):\n",
        "    print(\"Ka\", end='+')\n",
        "\n",
        "for i in range(5):\n",
        "    print(\"Ga\", end='x')\n"
      ],
      "metadata": {
        "colab": {
          "base_uri": "https://localhost:8080/"
        },
        "id": "MNknbcjTdX_n",
        "outputId": "1aa1ffd2-0088-4d49-85e9-4974e7b8fc80"
      },
      "execution_count": null,
      "outputs": [
        {
          "output_type": "stream",
          "name": "stdout",
          "text": [
            "Ka+Ka+Ka+Ka+Ka+GaxGaxGaxGaxGax"
          ]
        }
      ]
    },
    {
      "cell_type": "markdown",
      "source": [
        "int(eger)(จำนวนเต็ม)"
      ],
      "metadata": {
        "id": "y7GvbdjoeA9m"
      }
    },
    {
      "cell_type": "code",
      "source": [
        "int_a = 7\n",
        "int_b = 2\n",
        "\n",
        "print(type(int_a),type(int_b))  #เช็คชนิดของตัวแปร"
      ],
      "metadata": {
        "id": "vQdOWuzsdX2u"
      },
      "execution_count": null,
      "outputs": []
    },
    {
      "cell_type": "code",
      "source": [
        "int_c = int_a + int_b #assign the value as the output of operation\n",
        "print(int_c)"
      ],
      "metadata": {
        "id": "xlydPOH8ePpG"
      },
      "execution_count": null,
      "outputs": []
    },
    {
      "cell_type": "markdown",
      "source": [
        "Float(จำนวนจริง ทศนิยม)"
      ],
      "metadata": {
        "id": "EzazX4KgeRmL"
      }
    },
    {
      "cell_type": "code",
      "source": [
        "fl_a = 7. # dot without number = Float too\n",
        "fl_b = 2.571"
      ],
      "metadata": {
        "id": "siommV3UePf_"
      },
      "execution_count": null,
      "outputs": []
    },
    {
      "cell_type": "code",
      "source": [
        "print(fl_a)"
      ],
      "metadata": {
        "id": "RE7kztwZePX2"
      },
      "execution_count": null,
      "outputs": []
    },
    {
      "cell_type": "code",
      "source": [
        "print(type(fl_a))"
      ],
      "metadata": {
        "id": "q9LU-ND8ePJm"
      },
      "execution_count": null,
      "outputs": []
    }
  ]
}