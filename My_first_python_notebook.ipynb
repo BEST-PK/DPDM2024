{
  "nbformat": 4,
  "nbformat_minor": 0,
  "metadata": {
    "colab": {
      "provenance": [],
      "authorship_tag": "ABX9TyOeN7AxASZ/f7k0wjVDglRp",
      "include_colab_link": true
    },
    "kernelspec": {
      "name": "python3",
      "display_name": "Python 3"
    },
    "language_info": {
      "name": "python"
    }
  },
  "cells": [
    {
      "cell_type": "markdown",
      "metadata": {
        "id": "view-in-github",
        "colab_type": "text"
      },
      "source": [
        "<a href=\"https://colab.research.google.com/github/BEST-PK/DPDM2024/blob/main/My_first_python_notebook.ipynb\" target=\"_parent\"><img src=\"https://colab.research.google.com/assets/colab-badge.svg\" alt=\"Open In Colab\"/></a>"
      ]
    },
    {
      "cell_type": "markdown",
      "source": [
        "PHUTTHARAK KHADCHAPHUTHAD"
      ],
      "metadata": {
        "id": "HK17s9UFpqKS"
      }
    },
    {
      "cell_type": "code",
      "execution_count": 1,
      "metadata": {
        "id": "4YKlWXMao4dr",
        "colab": {
          "base_uri": "https://localhost:8080/"
        },
        "outputId": "34e0bee0-3d1c-4c50-8744-f322d5f2f209"
      },
      "outputs": [
        {
          "output_type": "stream",
          "name": "stdout",
          "text": [
            "Applied Statistics\n"
          ]
        }
      ],
      "source": [
        "print('Applied Statistics')\n",
        "#run->shift+enter"
      ]
    }
  ]
}