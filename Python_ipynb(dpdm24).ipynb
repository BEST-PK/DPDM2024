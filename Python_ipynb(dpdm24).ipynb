{
  "nbformat": 4,
  "nbformat_minor": 0,
  "metadata": {
    "colab": {
      "provenance": [],
      "toc_visible": true,
      "authorship_tag": "ABX9TyOfxkkz5u1XWqSCb+79/NMv",
      "include_colab_link": true
    },
    "kernelspec": {
      "name": "python3",
      "display_name": "Python 3"
    },
    "language_info": {
      "name": "python"
    }
  },
  "cells": [
    {
      "cell_type": "markdown",
      "metadata": {
        "id": "view-in-github",
        "colab_type": "text"
      },
      "source": [
        "<a href=\"https://colab.research.google.com/github/BEST-PK/DPDM2024/blob/main/Python_ipynb(dpdm24).ipynb\" target=\"_parent\"><img src=\"https://colab.research.google.com/assets/colab-badge.svg\" alt=\"Open In Colab\"/></a>"
      ]
    },
    {
      "cell_type": "markdown",
      "source": [
        "#**Class : 19 June 2024**\n"
      ],
      "metadata": {
        "id": "-Ju2DBJrkEx1"
      }
    },
    {
      "cell_type": "markdown",
      "source": [
        " ## **Python101 : พื้นฐาน**\n",
        "\n",
        "\n",
        "*   for loop used indentation คือการเว้นเข้าไป เพื่อบอกว่าโค้ด for loop ที่ย่อเข้าไป เป็นส่วนหนึ่งของ line หลัก\n",
        "*   ภาษา python ให้ความสำคัญกับวงเล็บ [ระบุ set ของข้อมูล], <ระบุ set ของข้อมูล> , (ส่วนหนึ่งของ func)\n",
        "\n",
        "\n",
        "\n"
      ],
      "metadata": {
        "id": "0pszJ1UFkEzt"
      }
    },
    {
      "cell_type": "code",
      "source": [
        "for i in ['a','b','c']:\n",
        "    print(i,end=' ')\n",
        "    print('/')\n",
        "    for j in range(10):\n",
        "        ccc=10\n",
        "        #print(ccc)"
      ],
      "metadata": {
        "colab": {
          "base_uri": "https://localhost:8080/"
        },
        "id": "rbJZQVhNke-9",
        "outputId": "0aa325cb-3876-4834-f63c-2896123a4020"
      },
      "execution_count": null,
      "outputs": [
        {
          "output_type": "stream",
          "name": "stdout",
          "text": [
            "a /\n",
            "b /\n",
            "c /\n"
          ]
        }
      ]
    },
    {
      "cell_type": "markdown",
      "source": [
        "## **Defind Variable : การกำหนดตัวแปร**\n",
        "สำหรับการเก็บข้อมูลไว้ในตัวแปรนั้นๆ\n",
        "**variable_a = ข้อมูลที่เราต้องการ**\n",
        "\n",
        "ซึ่งเราไม่ต้องกำหนดชนิดตัวแปรเองมันจะกำหนดให้เราเลย แต่เราก็ต้องเข้าใจชนิดของมันเองว่ามันคืออะไร เพื่อให้นำไปใช้งานได้ถูกต้อง\n",
        "\n",
        "## **การตั้งชื่อตัวแปร**\n",
        "*   ตั้งให้สื่อความหมาย\n",
        "*   ต้องเป็นภาษาอังกฤษ\n",
        "*   ใช้ตัวเลขผสมตัวหนังสือได้ แต่ห้ามขึ้นต้นด้วยตัวเลข\n",
        "*   ห้ามมีเว้นวรรคในตัวแปร\n",
        "*   ตัวใหญ่ ตัวเล็กมีค่าไม่เท่ากัน\n"
      ],
      "metadata": {
        "id": "k9nIAum8Bcgc"
      }
    },
    {
      "cell_type": "code",
      "source": [
        "a = 5 #int\n",
        "print(a)\n",
        "\n",
        "b = 5.7 #float\n",
        "print(b)\n",
        "\n",
        "c = a-b\n",
        "print(c)"
      ],
      "metadata": {
        "colab": {
          "base_uri": "https://localhost:8080/"
        },
        "id": "PDeYPoBxsfYs",
        "outputId": "9fcd9ffc-b1fd-40fd-9d86-e3d959a38c90",
        "collapsed": true
      },
      "execution_count": null,
      "outputs": [
        {
          "output_type": "stream",
          "name": "stdout",
          "text": [
            "5\n",
            "5.7\n",
            "-0.7000000000000002\n"
          ]
        }
      ]
    },
    {
      "cell_type": "markdown",
      "source": [
        "## **Intro to string and print statement**\n",
        "การจัดการข้อมูลประเภท String และคำสั่งพิมพ์"
      ],
      "metadata": {
        "id": "z1eVRg4fzd6o"
      }
    },
    {
      "cell_type": "markdown",
      "source": [
        "### **String(text)**\n",
        "*  String เป็นลำดับของตัวอักษรหลายตัวเรียงต่อกัน (text )\n",
        "*  การที่จะประกาศ String ค่าของมันจะอยู่ในเครื่องหมาย Single quote  (' ') หรือ Double quote ( \" \")  เท่านั้น\n"
      ],
      "metadata": {
        "id": "jaebvaWUk4Dl"
      }
    },
    {
      "cell_type": "code",
      "source": [
        "#กำหนดตัวแปรสำหรับเก็บข้อมูล text\n",
        "#ชื่อตัวแปร=\"ข้อความ\"\n",
        "veriable1 =\"Stat\"\n",
        "veriable2 ='KKU'\n",
        "veriable3 ='12345'\n",
        "print(veriable1)\n",
        "print(veriable2)\n",
        "print(veriable3)"
      ],
      "metadata": {
        "colab": {
          "base_uri": "https://localhost:8080/"
        },
        "id": "WZ3HvJBxjxRe",
        "outputId": "68b10b94-87c7-4688-b351-0f422b8d40e2"
      },
      "execution_count": null,
      "outputs": [
        {
          "output_type": "stream",
          "name": "stdout",
          "text": [
            "Stat\n",
            "KKU\n",
            "12345\n"
          ]
        }
      ]
    },
    {
      "cell_type": "code",
      "execution_count": null,
      "metadata": {
        "colab": {
          "base_uri": "https://localhost:8080/"
        },
        "id": "SA1J748xjO1h",
        "outputId": "99002bf1-b0fe-49ac-e0d1-cfde3eea94c1"
      },
      "outputs": [
        {
          "output_type": "stream",
          "name": "stdout",
          "text": [
            "StatKKU\n",
            "Stat1\n"
          ]
        }
      ],
      "source": [
        "#สามารถแสดงข้อมูลจาก 2 ตัวแปรมารวมกันได้ str+str\n",
        "print(veriable1+veriable2)\n",
        "\n",
        "#แต่ไม่สามารถต่อกับตัวแปรชนิดต่างกันได้ str+int or int+str\n",
        "int1=1\n",
        "#print(veriable1+ int1 ) #TypeError: can only concatenate str (not \"int\") to str\n",
        "#print( int1 +veriable1) #TypeError: can only concatenate str (not \"int\") to str\n",
        "#หากต้องการใช้  str+int or int+str\n",
        "print(veriable1+ str(int1))\n",
        "\n"
      ]
    },
    {
      "cell_type": "markdown",
      "source": [
        "### **การจัดการ text แบบพิเศษ (โดยใช้ตัวแปร หรือ run code ใน text)**\n",
        "\n",
        "โดยการใช้        **f'ข้อความ1 {ส่วนของ code1} ข้อความ2 {ส่วนของ code2}'**"
      ],
      "metadata": {
        "id": "viL2dGKj1OvY"
      }
    },
    {
      "cell_type": "code",
      "source": [
        "print(f'six plus five = {6+5}') # F-String คือเอา f' ไปใส่ข้างหน้า แล้วจะสามารนำตัวแปรที่มีค่าอยู่แล้วมาแทรกได้"
      ],
      "metadata": {
        "colab": {
          "base_uri": "https://localhost:8080/"
        },
        "id": "qJvUOa8mu3qc",
        "outputId": "f3036fa8-ec3a-4b0c-a0c1-ef62f974d946"
      },
      "execution_count": null,
      "outputs": [
        {
          "output_type": "stream",
          "name": "stdout",
          "text": [
            "six plus five = 11\n"
          ]
        }
      ]
    },
    {
      "cell_type": "code",
      "source": [
        "print(f'six plus five = {6+5.7:.2f}%') # ใส่ :.2f} คือให้แสดงค่าของตัวเลข เป็นทศนิยม 2 ตำแหน่ง// ใส่ % หลัง } คือเครื่องหมาน สามารถเป็นเป็น $ & หรืออื่นๆได้"
      ],
      "metadata": {
        "colab": {
          "base_uri": "https://localhost:8080/"
        },
        "id": "UnPNQ6Jdu9c0",
        "outputId": "d9265619-1f6b-4af8-fbf6-0042ea78d9ec"
      },
      "execution_count": null,
      "outputs": [
        {
          "output_type": "stream",
          "name": "stdout",
          "text": [
            "six plus five = 11.70%\n"
          ]
        }
      ]
    },
    {
      "cell_type": "code",
      "source": [
        "print(f'six plus five = {6+5:03d}') #แสดงผลลัพธ์ 3 หลัก"
      ],
      "metadata": {
        "colab": {
          "base_uri": "https://localhost:8080/"
        },
        "id": "RizsXWF9u89U",
        "outputId": "5b98ab91-11ac-488e-f5ec-ae0a3c080fb8"
      },
      "execution_count": null,
      "outputs": [
        {
          "output_type": "stream",
          "name": "stdout",
          "text": [
            "six plus five = 011\n"
          ]
        }
      ]
    },
    {
      "cell_type": "code",
      "source": [
        "st1 = f'six plus five = {6+5:03d}' # สร้างตัวแปร st1 มาเก็บค่าของ f'six plus five = {6+5:03d}\n",
        "st1 # แสดงค่าของst1"
      ],
      "metadata": {
        "colab": {
          "base_uri": "https://localhost:8080/",
          "height": 34
        },
        "id": "YLrW8drRu75z",
        "outputId": "23ea0c19-1fb5-4dba-f511-53bbf9d938f8"
      },
      "execution_count": null,
      "outputs": [
        {
          "output_type": "execute_result",
          "data": {
            "text/plain": [
              "'six plus five = 011'"
            ],
            "application/vnd.google.colaboratory.intrinsic+json": {
              "type": "string"
            }
          },
          "metadata": {},
          "execution_count": 30
        }
      ]
    },
    {
      "cell_type": "markdown",
      "source": [
        "####  **การใช้งาน quote และ double quote**"
      ],
      "metadata": {
        "id": "B1_uPCNihKI2"
      }
    },
    {
      "cell_type": "code",
      "source": [
        "# การใช้งาน quote และ double quote\n",
        "# f'six plus five = {'six'+'five'}' #SyntaxError: f-string: expecting '}'\n",
        "\n",
        "f\"six plus five = {'six'+'five'}\""
      ],
      "metadata": {
        "colab": {
          "base_uri": "https://localhost:8080/",
          "height": 34
        },
        "id": "g6Taz1kkv3Y0",
        "outputId": "ffa77a6c-991f-4f49-dcc2-63984095c232"
      },
      "execution_count": null,
      "outputs": [
        {
          "output_type": "execute_result",
          "data": {
            "text/plain": [
              "'six plus five = sixfive'"
            ],
            "application/vnd.google.colaboratory.intrinsic+json": {
              "type": "string"
            }
          },
          "metadata": {},
          "execution_count": 7
        }
      ]
    },
    {
      "cell_type": "markdown",
      "source": [
        "### **Advanced printing : การแสดงผลแบบ Advanced**\n",
        "Syntax สำหรับ Print :\n",
        "**print(object(s), sep=separator, end=end, file=file, flush=flush)**\n"
      ],
      "metadata": {
        "id": "hIrYyr79uAQp"
      }
    },
    {
      "cell_type": "markdown",
      "source": [
        "#### **object(s)**\n",
        "(s) สามารถ input object ได้มากกว่า 1 ตัว"
      ],
      "metadata": {
        "id": "qqBPU5Fwv7-M"
      }
    },
    {
      "cell_type": "code",
      "source": [
        "print(veriable1,veriable2,veriable3)"
      ],
      "metadata": {
        "colab": {
          "base_uri": "https://localhost:8080/"
        },
        "id": "4V63JPvP4O0f",
        "outputId": "ab681e79-2abb-4f63-80f7-c031988a3328"
      },
      "execution_count": null,
      "outputs": [
        {
          "output_type": "stream",
          "name": "stdout",
          "text": [
            "Stat KKU 12345\n"
          ]
        }
      ]
    },
    {
      "cell_type": "markdown",
      "source": [
        "#### **separator(sep): การแบ่งข้อมูลด้วยคำสั่ง ช่องว่าง , และ /**\n",
        "Default is '(ช่องว่าง) '"
      ],
      "metadata": {
        "id": "4nfrz91U3bjh"
      }
    },
    {
      "cell_type": "code",
      "source": [
        "#ถ้าไม่กำหนด sep จะใช้ ' ' แบ่ง\n",
        "print(veriable1,veriable2,veriable3)"
      ],
      "metadata": {
        "colab": {
          "base_uri": "https://localhost:8080/"
        },
        "id": "S6Joif8_3Yuo",
        "outputId": "2cdfd103-cdb9-4395-8b96-09950993b31e"
      },
      "execution_count": null,
      "outputs": [
        {
          "output_type": "stream",
          "name": "stdout",
          "text": [
            "Stat KKU 12345\n"
          ]
        }
      ]
    },
    {
      "cell_type": "code",
      "source": [
        "#ถ้ากำหนด sep เป็น อักขระอื่นๆ\n",
        "print(veriable1,veriable2,veriable3,sep='+')\n",
        "print(veriable1,veriable2,veriable3,sep='/')\n",
        "print(veriable1,veriable2,veriable3,sep=',')"
      ],
      "metadata": {
        "colab": {
          "base_uri": "https://localhost:8080/"
        },
        "id": "oos0zRMYyUV0",
        "outputId": "c97a5b82-826d-43d3-d4a4-ee8470f2c9eb"
      },
      "execution_count": null,
      "outputs": [
        {
          "output_type": "stream",
          "name": "stdout",
          "text": [
            "Stat+KKU+12345\n",
            "Stat/KKU/12345\n",
            "Stat,KKU,12345\n"
          ]
        }
      ]
    },
    {
      "cell_type": "markdown",
      "source": [
        "#### **end : สำหรับการขึ้นบรรทัดใหม่หรือการเพิ่มตัวอักษร**\n",
        "Default is '\\n'"
      ],
      "metadata": {
        "id": "t2elcVfx31hA"
      }
    },
    {
      "cell_type": "code",
      "source": [
        "print('stat') #Default is '\\n' ## ขึ้นบรรทัดใหม่\n",
        "print('kku')"
      ],
      "metadata": {
        "colab": {
          "base_uri": "https://localhost:8080/"
        },
        "id": "CtXpFoiD6ZPJ",
        "outputId": "9f7c83cf-9e2a-4781-b666-06c0f2aa1212"
      },
      "execution_count": null,
      "outputs": [
        {
          "output_type": "stream",
          "name": "stdout",
          "text": [
            "stat\n",
            "kku\n"
          ]
        }
      ]
    },
    {
      "cell_type": "code",
      "source": [
        "print('stat', end='+-+')\n",
        "print('kku')"
      ],
      "metadata": {
        "colab": {
          "base_uri": "https://localhost:8080/"
        },
        "id": "BUVzyjp732bW",
        "outputId": "b4b6593e-d62f-48de-b49f-5494937a391e"
      },
      "execution_count": null,
      "outputs": [
        {
          "output_type": "stream",
          "name": "stdout",
          "text": [
            "stat+-+kku\n"
          ]
        }
      ]
    },
    {
      "cell_type": "markdown",
      "source": [
        "#**Class : 10 July 2024**"
      ],
      "metadata": {
        "id": "djJL-yY4cheL"
      }
    },
    {
      "cell_type": "markdown",
      "source": [
        "##char (acter) (ตัวอักษร)"
      ],
      "metadata": {
        "id": "Q0IMlP98dRjZ"
      }
    },
    {
      "cell_type": "code",
      "source": [
        "a = 'C'"
      ],
      "metadata": {
        "id": "mwFoIMPwdRCP"
      },
      "execution_count": null,
      "outputs": []
    },
    {
      "cell_type": "code",
      "source": [
        "b= 'haracter'"
      ],
      "metadata": {
        "id": "P9RPmWHsdYRu"
      },
      "execution_count": null,
      "outputs": []
    },
    {
      "cell_type": "code",
      "source": [
        "print(f'a={a} b={b},then {a}+{b} = {a+b}') #string + string"
      ],
      "metadata": {
        "colab": {
          "base_uri": "https://localhost:8080/"
        },
        "id": "mWyc73l1dYNy",
        "outputId": "4c0c4b5d-fafb-44b0-f907-6ddfae8f003d"
      },
      "execution_count": null,
      "outputs": [
        {
          "output_type": "stream",
          "name": "stdout",
          "text": [
            "a=C b=haracter,then C+haracter = Character\n"
          ]
        }
      ]
    },
    {
      "cell_type": "code",
      "source": [
        "A = 'c'\n",
        "B = 'a'"
      ],
      "metadata": {
        "id": "sQuwwdx0dYK_"
      },
      "execution_count": null,
      "outputs": []
    },
    {
      "cell_type": "code",
      "source": [
        "print(A+B) # string + string คือมาต่อกันได้"
      ],
      "metadata": {
        "colab": {
          "base_uri": "https://localhost:8080/"
        },
        "id": "YHkQw9ZGdYHm",
        "outputId": "98fdfa77-1e39-42df-a2b4-9365cb70161d"
      },
      "execution_count": null,
      "outputs": [
        {
          "output_type": "stream",
          "name": "stdout",
          "text": [
            "ca\n"
          ]
        }
      ]
    },
    {
      "cell_type": "code",
      "source": [
        "A = '1'  #str\n",
        "B = 2   #int\n",
        "print(A,B)"
      ],
      "metadata": {
        "colab": {
          "base_uri": "https://localhost:8080/"
        },
        "id": "Fk9uHKtueuEW",
        "outputId": "652f74be-fe2f-406c-e271-7d177496da32"
      },
      "execution_count": null,
      "outputs": [
        {
          "output_type": "stream",
          "name": "stdout",
          "text": [
            "1 2\n"
          ]
        }
      ]
    },
    {
      "cell_type": "markdown",
      "source": [
        "integer * char mean multiple copies of the char หรือสามารถคูณตัวอักษรเพื่อแสดงผลเท่าคูณได้"
      ],
      "metadata": {
        "id": "LN6e8GaOd1Je"
      }
    },
    {
      "cell_type": "code",
      "source": [
        "print(5*'T')"
      ],
      "metadata": {
        "colab": {
          "base_uri": "https://localhost:8080/"
        },
        "id": "0_GgAiAYdYEf",
        "outputId": "1155939e-be7f-48dd-f6ab-3179aa48a59b"
      },
      "execution_count": null,
      "outputs": [
        {
          "output_type": "stream",
          "name": "stdout",
          "text": [
            "TTTTT\n"
          ]
        }
      ]
    },
    {
      "cell_type": "markdown",
      "source": [
        "##List() : โครงสร้างข้อมูล\n",
        "\n",
        "\n",
        "*   List สามารถเก็บข้อมูลหลายประเภทได้ ไม่ว่าจะเป็นตัวเลข สตริง หรือออบเจกต์อื่น\n",
        "*   List สามารถสร้างได้โดยใช้เครื่องหมายวงเล็บเหลี่ยม [] หรือใช้ฟังก์ชัน list()\n",
        "\n",
        "\n",
        "\n",
        "\n",
        "\n",
        "\n",
        "\n",
        "\n"
      ],
      "metadata": {
        "id": "Nm1ghz4Eg74d"
      }
    },
    {
      "cell_type": "code",
      "source": [
        "list_a = [1, 2, 3] #สร้างจากการใส่ค่าเข้าไปเลย"
      ],
      "metadata": {
        "id": "ngDpsQW1hJIh"
      },
      "execution_count": null,
      "outputs": []
    },
    {
      "cell_type": "code",
      "source": [
        "list_b =[] #สร้างจากเซตว่าง และเพิ่มค่าเข้าไปที่หลัง\n",
        "list_b.append(1) # เพิ่มค่า 1\n",
        "list_b.append(2) # เพิ่มค่า 2\n",
        "list_b\n",
        "#ค่าที่เพิ่มจะต้องเรียงลำดับเสมอ!!\n",
        "list_b.append('f')\n",
        "list_b.append([12,'m','n'])\n",
        "list_b"
      ],
      "metadata": {
        "colab": {
          "base_uri": "https://localhost:8080/"
        },
        "id": "y7CZMDQaiAiM",
        "outputId": "e26f078b-1f7d-40a3-b17f-c13c22d6965f"
      },
      "execution_count": null,
      "outputs": [
        {
          "output_type": "execute_result",
          "data": {
            "text/plain": [
              "[1, 2, 'f', [12, 'm', 'n']]"
            ]
          },
          "metadata": {},
          "execution_count": 19
        }
      ]
    },
    {
      "cell_type": "code",
      "source": [
        "list_b[3] #index"
      ],
      "metadata": {
        "colab": {
          "base_uri": "https://localhost:8080/"
        },
        "id": "HxoGslTniyJU",
        "outputId": "15e0a970-ce52-4ee0-c678-9beb588b9525"
      },
      "execution_count": null,
      "outputs": [
        {
          "output_type": "execute_result",
          "data": {
            "text/plain": [
              "[12, 'm', 'n']"
            ]
          },
          "metadata": {},
          "execution_count": 20
        }
      ]
    },
    {
      "cell_type": "markdown",
      "source": [
        "##For Loops : วนซ้ำ\n",
        "\n",
        "แนวคิด --> for สมาชิกแต่ละตัว in list :             ทำอะไรสักอย่าง"
      ],
      "metadata": {
        "id": "CbEyluf4gp0u"
      }
    },
    {
      "cell_type": "code",
      "source": [
        "fruits = [\"apple\", \"banana\", \"cherry\"]\n",
        "for x in fruits:\n",
        "  print(x)"
      ],
      "metadata": {
        "colab": {
          "base_uri": "https://localhost:8080/"
        },
        "id": "X9KoTgulkPHb",
        "outputId": "fd51f6cc-814e-4fc2-e05c-b86f8a5ed424"
      },
      "execution_count": null,
      "outputs": [
        {
          "output_type": "stream",
          "name": "stdout",
          "text": [
            "apple\n",
            "banana\n",
            "cherry\n"
          ]
        }
      ]
    },
    {
      "cell_type": "code",
      "source": [
        "for i in [1,2,3,4,5]:\n",
        "  print(2*i, end=' ')"
      ],
      "metadata": {
        "colab": {
          "base_uri": "https://localhost:8080/"
        },
        "id": "7pTrQ9HDkj1T",
        "outputId": "cee6797e-92c9-4f4b-ed81-eaba1eab4b36"
      },
      "execution_count": null,
      "outputs": [
        {
          "output_type": "stream",
          "name": "stdout",
          "text": [
            "2 4 6 8 10 "
          ]
        }
      ]
    },
    {
      "cell_type": "markdown",
      "source": [
        "###Quiz2\n",
        "\n",
        "ให้ print Ka 5 ครั้ง ต่อด้วย Ga 10 ครั้ง\n",
        "แบบใช้ loop และขั้น Ka แต่ละตัวด้วย +\n",
        "ขั้น Ga แต่ละตัวด้วย x (ในบรรทัดเดียวกัน)"
      ],
      "metadata": {
        "id": "hsy6Do7KlEjz"
      }
    },
    {
      "cell_type": "code",
      "source": [
        "for i in range(5):\n",
        "    print(\"Ka\", end='')\n",
        "    if i!=4:\n",
        "         print(\"+\", end='')\n",
        "print(\"%\", end='')\n",
        "for i in range(10):\n",
        "    print(\"Ga\", end='')\n",
        "    if i!=9:\n",
        "         print(\"x\", end='')\n",
        "    #print(\"Ga\", end='x')\n"
      ],
      "metadata": {
        "colab": {
          "base_uri": "https://localhost:8080/"
        },
        "id": "MNknbcjTdX_n",
        "outputId": "7502f665-1a6c-4ddb-960c-d7ce7fa728f0"
      },
      "execution_count": null,
      "outputs": [
        {
          "output_type": "stream",
          "name": "stdout",
          "text": [
            "Ka+Ka+Ka+Ka+Ka%GaxGaxGaxGaxGaxGaxGaxGaxGaxGa"
          ]
        }
      ]
    },
    {
      "cell_type": "markdown",
      "source": [
        "## int(eger)(จำนวนเต็ม)"
      ],
      "metadata": {
        "id": "y7GvbdjoeA9m"
      }
    },
    {
      "cell_type": "code",
      "source": [
        "int_a = 7\n",
        "int_b = 2\n",
        "\n",
        "print(type(int_a),type(int_b))  #เช็คชนิดของตัวแปร"
      ],
      "metadata": {
        "colab": {
          "base_uri": "https://localhost:8080/"
        },
        "id": "vQdOWuzsdX2u",
        "outputId": "ae9aa8ff-a4cd-42d5-9460-0c159f965dc5"
      },
      "execution_count": null,
      "outputs": [
        {
          "output_type": "stream",
          "name": "stdout",
          "text": [
            "<class 'int'> <class 'int'>\n"
          ]
        }
      ]
    },
    {
      "cell_type": "code",
      "source": [
        "int_c = int_a + int_b #assign the value as the output of operation\n",
        "print(int_c)"
      ],
      "metadata": {
        "colab": {
          "base_uri": "https://localhost:8080/"
        },
        "id": "xlydPOH8ePpG",
        "outputId": "0ceb26c5-5c1e-4c10-f0c5-76e7272166d0"
      },
      "execution_count": null,
      "outputs": [
        {
          "output_type": "stream",
          "name": "stdout",
          "text": [
            "9\n"
          ]
        }
      ]
    },
    {
      "cell_type": "code",
      "source": [
        "6**3 #power"
      ],
      "metadata": {
        "colab": {
          "base_uri": "https://localhost:8080/"
        },
        "id": "BEdJjpBIrDJ4",
        "outputId": "f16fe0f9-a5e2-427e-a52e-3bb1f861962a"
      },
      "execution_count": null,
      "outputs": [
        {
          "output_type": "execute_result",
          "data": {
            "text/plain": [
              "216"
            ]
          },
          "metadata": {},
          "execution_count": 53
        }
      ]
    },
    {
      "cell_type": "code",
      "source": [
        "6**1/2 #square root"
      ],
      "metadata": {
        "colab": {
          "base_uri": "https://localhost:8080/"
        },
        "id": "WA1YrD4krC2o",
        "outputId": "441f31aa-2d7b-44e4-aaf8-03dfa5e04e2d"
      },
      "execution_count": null,
      "outputs": [
        {
          "output_type": "execute_result",
          "data": {
            "text/plain": [
              "3.0"
            ]
          },
          "metadata": {},
          "execution_count": 54
        }
      ]
    },
    {
      "cell_type": "markdown",
      "source": [
        "Float(จำนวนจริง ทศนิยม)"
      ],
      "metadata": {
        "id": "EzazX4KgeRmL"
      }
    },
    {
      "cell_type": "code",
      "source": [
        "fl_a = 7. # dot without number = Float too\n",
        "fl_b = 2.571"
      ],
      "metadata": {
        "id": "siommV3UePf_"
      },
      "execution_count": null,
      "outputs": []
    },
    {
      "cell_type": "code",
      "source": [
        "print(fl_a)"
      ],
      "metadata": {
        "colab": {
          "base_uri": "https://localhost:8080/"
        },
        "id": "RE7kztwZePX2",
        "outputId": "f57b0d96-5103-402a-8da0-d1d07dbb23ef"
      },
      "execution_count": null,
      "outputs": [
        {
          "output_type": "stream",
          "name": "stdout",
          "text": [
            "7.0\n"
          ]
        }
      ]
    },
    {
      "cell_type": "code",
      "source": [
        "print(type(fl_a))"
      ],
      "metadata": {
        "colab": {
          "base_uri": "https://localhost:8080/"
        },
        "id": "q9LU-ND8ePJm",
        "outputId": "1a69094e-2f3f-4dd9-ba1c-d33a925c19c0"
      },
      "execution_count": null,
      "outputs": [
        {
          "output_type": "stream",
          "name": "stdout",
          "text": [
            "<class 'float'>\n"
          ]
        }
      ]
    },
    {
      "cell_type": "markdown",
      "source": [
        "##Boolean (ตัวแปรที่มีค่า True or False) ตรรกศาสตร์#"
      ],
      "metadata": {
        "id": "pBBHxdUarrP4"
      }
    },
    {
      "cell_type": "code",
      "source": [
        "b_T = True\n",
        "b_F = False"
      ],
      "metadata": {
        "id": "69lUxwjSrrBJ"
      },
      "execution_count": null,
      "outputs": []
    },
    {
      "cell_type": "markdown",
      "source": [
        "```==```equal,  ```!=```not equal,\n",
        " ```>```greater than,  ```<=```less than or equal,  ```|```or,  ```&```**and**,  ```in``` ตรวจสอบสมาชิกใน list,  ```is``` ตรวจสอบชนิดตัวแปร"
      ],
      "metadata": {
        "id": "i2NZdHqBr2sf"
      }
    },
    {
      "cell_type": "code",
      "source": [
        "b_T | b_F"
      ],
      "metadata": {
        "colab": {
          "base_uri": "https://localhost:8080/"
        },
        "id": "ix-q5xVqrq8Y",
        "outputId": "39e1917e-6f9d-4f70-a34a-07342181faeb"
      },
      "execution_count": null,
      "outputs": [
        {
          "output_type": "execute_result",
          "data": {
            "text/plain": [
              "True"
            ]
          },
          "metadata": {},
          "execution_count": 59
        }
      ]
    },
    {
      "cell_type": "code",
      "source": [
        "nane = 'Khon Kaen University'\n",
        "print('T' in nane)\n",
        "print('t' in nane)"
      ],
      "metadata": {
        "colab": {
          "base_uri": "https://localhost:8080/"
        },
        "id": "5T4G-RoxtThK",
        "outputId": "25df38f2-5be6-42b1-d099-7575c149ec46"
      },
      "execution_count": null,
      "outputs": [
        {
          "output_type": "stream",
          "name": "stdout",
          "text": [
            "False\n",
            "True\n"
          ]
        }
      ]
    },
    {
      "cell_type": "markdown",
      "source": [
        "##Complex number (จำนวนเชิงซ้อน)"
      ],
      "metadata": {
        "id": "SKgPuxU7t-sZ"
      }
    },
    {
      "cell_type": "code",
      "source": [
        "x = 1+2j"
      ],
      "metadata": {
        "id": "d0iKqEfzuD8G"
      },
      "execution_count": null,
      "outputs": []
    },
    {
      "cell_type": "markdown",
      "source": [
        "we can check the datatype with type()"
      ],
      "metadata": {
        "id": "wvsrLQctuOg3"
      }
    },
    {
      "cell_type": "code",
      "source": [
        "print(f'variable a value is {x} and datatype is {type(x)}')"
      ],
      "metadata": {
        "colab": {
          "base_uri": "https://localhost:8080/"
        },
        "id": "2N30Ds7euEaW",
        "outputId": "eec0a8a8-1233-4eec-eacc-ca97ef743ec2"
      },
      "execution_count": null,
      "outputs": [
        {
          "output_type": "stream",
          "name": "stdout",
          "text": [
            "variable a value is (1+2j) and datatype is <class 'complex'>\n"
          ]
        }
      ]
    },
    {
      "cell_type": "code",
      "source": [
        "print(f'ตัวแปร A ค่าคือ {A} ชนิด {type(A)}')"
      ],
      "metadata": {
        "colab": {
          "base_uri": "https://localhost:8080/"
        },
        "id": "ZQ1PICT7uEVT",
        "outputId": "2893e4e2-1ee6-4ca5-edb0-35a65e367738"
      },
      "execution_count": null,
      "outputs": [
        {
          "output_type": "stream",
          "name": "stdout",
          "text": [
            "ตัวแปร A ค่าคือ 1 ชนิด <class 'str'>\n"
          ]
        }
      ]
    },
    {
      "cell_type": "code",
      "source": [
        "print(f'ตัวแปร a ค่าคือ {a} ชนิด {type(A)}')"
      ],
      "metadata": {
        "colab": {
          "base_uri": "https://localhost:8080/"
        },
        "id": "Y67Or5T2uLVW",
        "outputId": "13933f29-e877-495d-97c5-5564a812dbce"
      },
      "execution_count": null,
      "outputs": [
        {
          "output_type": "stream",
          "name": "stdout",
          "text": [
            "ตัวแปร a ค่าคือ C ชนิด <class 'str'>\n"
          ]
        }
      ]
    },
    {
      "cell_type": "markdown",
      "source": [
        "##Variable Casting : การแปลงชนิดของตัวแปร"
      ],
      "metadata": {
        "id": "KH93_1veuiAX"
      }
    },
    {
      "cell_type": "code",
      "source": [
        "int_a = 7\n",
        "int_b = 2"
      ],
      "metadata": {
        "id": "ZOZiu-EEv43V"
      },
      "execution_count": null,
      "outputs": []
    },
    {
      "cell_type": "code",
      "source": [
        "print(f'int_a={int_a}, int_b={int_b}, fl_a = {fl_a}, fl_b={fl_b}')"
      ],
      "metadata": {
        "colab": {
          "base_uri": "https://localhost:8080/"
        },
        "id": "5B1LDODVunbe",
        "outputId": "8a8f32eb-7a19-42f0-a855-195a45349a5e"
      },
      "execution_count": null,
      "outputs": [
        {
          "output_type": "stream",
          "name": "stdout",
          "text": [
            "int_a=7, int_b=2, fl_a = 7.0, fl_b=2.571\n"
          ]
        }
      ]
    },
    {
      "cell_type": "code",
      "source": [
        "str_a ='6'\n",
        "str_b = '-2'"
      ],
      "metadata": {
        "id": "ES6AZiKjun03"
      },
      "execution_count": null,
      "outputs": []
    },
    {
      "cell_type": "code",
      "source": [
        "str_a2int = int(str_a) #transform string into int\n",
        "print(f'variable str_a2int value is {str_a2int} and data type is {type(str_a2int)}')"
      ],
      "metadata": {
        "colab": {
          "base_uri": "https://localhost:8080/"
        },
        "id": "24lCO8m4u3ZB",
        "outputId": "1aa23328-4b74-4c59-e99b-e9845073c930"
      },
      "execution_count": null,
      "outputs": [
        {
          "output_type": "stream",
          "name": "stdout",
          "text": [
            "variable str_a2int value is 6 and data type is <class 'int'>\n"
          ]
        }
      ]
    },
    {
      "cell_type": "code",
      "source": [
        "str_a + int_a # ไม่สามารถนำ string + int ได้"
      ],
      "metadata": {
        "colab": {
          "base_uri": "https://localhost:8080/",
          "height": 141
        },
        "id": "VHnfTDLavYxf",
        "outputId": "05c8f03d-f9d1-491b-b4a4-88639029b86c"
      },
      "execution_count": null,
      "outputs": [
        {
          "output_type": "error",
          "ename": "NameError",
          "evalue": "name 'int_a' is not defined",
          "traceback": [
            "\u001b[0;31m---------------------------------------------------------------------------\u001b[0m",
            "\u001b[0;31mNameError\u001b[0m                                 Traceback (most recent call last)",
            "\u001b[0;32m<ipython-input-73-e0cb324f8aa3>\u001b[0m in \u001b[0;36m<cell line: 1>\u001b[0;34m()\u001b[0m\n\u001b[0;32m----> 1\u001b[0;31m \u001b[0mstr_a\u001b[0m \u001b[0;34m+\u001b[0m \u001b[0mint_a\u001b[0m \u001b[0;31m# ไม่สามารถนำ string + int ได้\u001b[0m\u001b[0;34m\u001b[0m\u001b[0;34m\u001b[0m\u001b[0m\n\u001b[0m",
            "\u001b[0;31mNameError\u001b[0m: name 'int_a' is not defined"
          ]
        }
      ]
    },
    {
      "cell_type": "code",
      "source": [
        "str_a2int +int_a"
      ],
      "metadata": {
        "colab": {
          "base_uri": "https://localhost:8080/"
        },
        "id": "WXdAHutnvuHv",
        "outputId": "bbc543f2-1f5c-4548-ded0-a03f61be2fd7"
      },
      "execution_count": null,
      "outputs": [
        {
          "output_type": "execute_result",
          "data": {
            "text/plain": [
              "13"
            ]
          },
          "metadata": {},
          "execution_count": 78
        }
      ]
    },
    {
      "cell_type": "code",
      "source": [
        "str(fl_b) # transform float to string"
      ],
      "metadata": {
        "colab": {
          "base_uri": "https://localhost:8080/",
          "height": 35
        },
        "id": "gBRu7UJXvwuv",
        "outputId": "c02db320-9e6d-4098-8753-9a8ffe93c4d4"
      },
      "execution_count": null,
      "outputs": [
        {
          "output_type": "execute_result",
          "data": {
            "text/plain": [
              "'2.571'"
            ],
            "application/vnd.google.colaboratory.intrinsic+json": {
              "type": "string"
            }
          },
          "metadata": {},
          "execution_count": 79
        }
      ]
    },
    {
      "cell_type": "code",
      "source": [
        "int(fl_b) # transform float to int (but it will cut the floating point)"
      ],
      "metadata": {
        "colab": {
          "base_uri": "https://localhost:8080/"
        },
        "id": "hCAhZyRgvwlu",
        "outputId": "f5c501f5-2135-4256-cf8d-6ff8cf5e5ae7"
      },
      "execution_count": null,
      "outputs": [
        {
          "output_type": "execute_result",
          "data": {
            "text/plain": [
              "2"
            ]
          },
          "metadata": {},
          "execution_count": 80
        }
      ]
    },
    {
      "cell_type": "markdown",
      "source": [
        "##replace() แทนที่ string"
      ],
      "metadata": {
        "id": "H2cgzH1Tv9wj"
      }
    },
    {
      "cell_type": "code",
      "source": [
        "st_test1 = 'Department 0f Statistics,'"
      ],
      "metadata": {
        "id": "s7MEnNqGwEgW"
      },
      "execution_count": null,
      "outputs": []
    },
    {
      "cell_type": "code",
      "source": [
        "st_test1.replace('e',' ') # replace e with space --> ('ตัวที่หาเมื่อต้องการเเทนที่,'ค่าที่เเทนที')"
      ],
      "metadata": {
        "colab": {
          "base_uri": "https://localhost:8080/",
          "height": 35
        },
        "id": "_CTdOyaDwE7d",
        "outputId": "09dbe30a-f74f-4631-f884-9d1599c94f69"
      },
      "execution_count": null,
      "outputs": [
        {
          "output_type": "execute_result",
          "data": {
            "text/plain": [
              "'D partm nt 0f Statistics,'"
            ],
            "application/vnd.google.colaboratory.intrinsic+json": {
              "type": "string"
            }
          },
          "metadata": {},
          "execution_count": 86
        }
      ]
    },
    {
      "cell_type": "code",
      "source": [
        "st_test1 #ไม่โชว์การแทนค่า ยังไม่อัพเดทการแก้ไข"
      ],
      "metadata": {
        "colab": {
          "base_uri": "https://localhost:8080/",
          "height": 35
        },
        "id": "WteqYdf3wE0k",
        "outputId": "be227077-e6ab-48a8-e7b5-ccb13e87a8a6"
      },
      "execution_count": null,
      "outputs": [
        {
          "output_type": "execute_result",
          "data": {
            "text/plain": [
              "'Department 0f Statistics,'"
            ],
            "application/vnd.google.colaboratory.intrinsic+json": {
              "type": "string"
            }
          },
          "metadata": {},
          "execution_count": 87
        }
      ]
    },
    {
      "cell_type": "markdown",
      "source": [
        "ถ้าต้องการให้มันบันทึกข้อมูลที่แก้ไข"
      ],
      "metadata": {
        "id": "yZRLqCFnxBAx"
      }
    },
    {
      "cell_type": "code",
      "source": [
        "st_test2 = st_test1.replace('e',' ') #สร้างตัวแปรใหม่มาเก็บค่า st_test1 that already replaced e with space\n",
        "print(st_test2)"
      ],
      "metadata": {
        "colab": {
          "base_uri": "https://localhost:8080/"
        },
        "id": "SPxUuvMLwEsZ",
        "outputId": "6394e763-81ca-4930-d7c9-8577e6865b95"
      },
      "execution_count": null,
      "outputs": [
        {
          "output_type": "stream",
          "name": "stdout",
          "text": [
            "D partm nt 0f Statistics,\n"
          ]
        }
      ]
    },
    {
      "cell_type": "code",
      "source": [
        "st_test1.replace('ti','TI') # modift ti to TI"
      ],
      "metadata": {
        "colab": {
          "base_uri": "https://localhost:8080/",
          "height": 35
        },
        "id": "QzGzmw3iwMQI",
        "outputId": "9950c688-7aa2-481b-8f60-368564a71760"
      },
      "execution_count": null,
      "outputs": [
        {
          "output_type": "execute_result",
          "data": {
            "text/plain": [
              "'Department 0f StaTIsTIcs,'"
            ],
            "application/vnd.google.colaboratory.intrinsic+json": {
              "type": "string"
            }
          },
          "metadata": {},
          "execution_count": 89
        }
      ]
    },
    {
      "cell_type": "markdown",
      "source": [
        "##split () แยก string"
      ],
      "metadata": {
        "id": "UHMsWCzSxSxE"
      }
    },
    {
      "cell_type": "code",
      "source": [
        "'a b c d e f g'.split() #แยก string ที่ช่องว่าง"
      ],
      "metadata": {
        "colab": {
          "base_uri": "https://localhost:8080/"
        },
        "id": "w3m2fpJvxXZV",
        "outputId": "c5a25ea9-57e8-45a1-fe46-c502ecbc58ea"
      },
      "execution_count": null,
      "outputs": [
        {
          "output_type": "execute_result",
          "data": {
            "text/plain": [
              "['a', 'b', 'c', 'd', 'e', 'f', 'g']"
            ]
          },
          "metadata": {},
          "execution_count": 90
        }
      ]
    },
    {
      "cell_type": "code",
      "source": [
        "'abc de fg'.split() #แยก string ที่ช่องว่าง"
      ],
      "metadata": {
        "colab": {
          "base_uri": "https://localhost:8080/"
        },
        "id": "lBowZq_cxYFO",
        "outputId": "f3709f67-32b5-4050-ea59-fbbbdf528cd2"
      },
      "execution_count": null,
      "outputs": [
        {
          "output_type": "execute_result",
          "data": {
            "text/plain": [
              "['abc', 'de', 'fg']"
            ]
          },
          "metadata": {},
          "execution_count": 91
        }
      ]
    },
    {
      "cell_type": "code",
      "source": [
        "'a,b/c, d e/ f g'.split('/') #แยกดัวย /  split with /"
      ],
      "metadata": {
        "colab": {
          "base_uri": "https://localhost:8080/"
        },
        "id": "5UcDl5E9xX7l",
        "outputId": "931d188b-6f1c-4bb5-c761-9636252d7804"
      },
      "execution_count": null,
      "outputs": [
        {
          "output_type": "execute_result",
          "data": {
            "text/plain": [
              "['a,b', 'c, d e', ' f g']"
            ]
          },
          "metadata": {},
          "execution_count": 92
        }
      ]
    },
    {
      "cell_type": "markdown",
      "source": [
        "###Quiz3\n",
        "แยก 'a,b/c,d e/f g' ออกมาเป็น list -> ['a','b','c','d','e','f','g']"
      ],
      "metadata": {
        "id": "FAtdFmVdyKG0"
      }
    },
    {
      "cell_type": "code",
      "source": [
        "Text = 'a,b/c,d e/f g'\n",
        "Text= Text.replace(',', ' ').replace('/', ' ')\n",
        "Text"
      ],
      "metadata": {
        "colab": {
          "base_uri": "https://localhost:8080/",
          "height": 35
        },
        "id": "67Xx1DpYzFGk",
        "outputId": "7182e507-3947-4d86-c8fc-c20b4cddeca3"
      },
      "execution_count": null,
      "outputs": [
        {
          "output_type": "execute_result",
          "data": {
            "text/plain": [
              "'a b c d e f g'"
            ],
            "application/vnd.google.colaboratory.intrinsic+json": {
              "type": "string"
            }
          },
          "metadata": {},
          "execution_count": 104
        }
      ]
    },
    {
      "cell_type": "code",
      "source": [
        "Text.split()"
      ],
      "metadata": {
        "colab": {
          "base_uri": "https://localhost:8080/"
        },
        "id": "uyfWAipEzd58",
        "outputId": "ef915b01-885d-4c2c-898d-fa6f0874b060"
      },
      "execution_count": null,
      "outputs": [
        {
          "output_type": "execute_result",
          "data": {
            "text/plain": [
              "['a', 'b', 'c', 'd', 'e', 'f', 'g']"
            ]
          },
          "metadata": {},
          "execution_count": 103
        }
      ]
    },
    {
      "cell_type": "code",
      "source": [
        "'a,b/c,d e/f g'.replace(',', ' ').replace('/', ' ').split()  #ลองใช้ฟังก์ชั่น replace และ split แบบต่อกัน"
      ],
      "metadata": {
        "colab": {
          "base_uri": "https://localhost:8080/"
        },
        "id": "-dMJ7ZVjz7Cj",
        "outputId": "6f761e15-b7ec-4651-a0d2-6747bfecfd22"
      },
      "execution_count": null,
      "outputs": [
        {
          "output_type": "execute_result",
          "data": {
            "text/plain": [
              "['a', 'b', 'c', 'd', 'e', 'f', 'g']"
            ]
          },
          "metadata": {},
          "execution_count": 102
        }
      ]
    }
  ]
}